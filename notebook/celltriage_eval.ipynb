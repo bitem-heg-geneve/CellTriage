{
 "cells": [
  {
   "cell_type": "code",
   "execution_count": 8,
   "metadata": {},
   "outputs": [],
   "source": [
    "import os\n",
    "from base_fns import get_local_folder\n",
    "\n",
    "os.chdir(os.path.dirname(get_local_folder()))\n",
    "from script.ct_model import CtTagger\n",
    "import pandas as pd\n",
    "import tabulate as tb\n",
    "from hydra import compose, initialize\n",
    "from omegaconf import OmegaConf\n",
    "import random\n",
    "from munch import Munch\n",
    "import numpy as np\n",
    "from pandarallel import pandarallel\n",
    "from pathlib import Path\n",
    "from transformers import BertTokenizerFast as BertTokenizer, BertModel\n",
    "import seaborn as sns\n",
    "import matplotlib.pyplot as plt\n",
    "from sklearn.metrics import accuracy_score, precision_score, recall_score, f1_score, classification_report\n",
    "\n",
    "import warnings\n",
    "warnings.simplefilter(action=\"ignore\", category=FutureWarning)\n",
    "from pytorch_lightning.callbacks import ModelCheckpoint, EarlyStopping\n",
    "\n",
    "with initialize(\n",
    "    version_base=None,\n",
    "    config_path=\"../cfg\",\n",
    "):\n",
    "    cfg = compose(config_name=\"main\")\n",
    "\n",
    "random.seed(cfg.random.seed)\n",
    "np.random.seed(cfg.random.seed)"
   ]
  },
  {
   "cell_type": "code",
   "execution_count": 3,
   "metadata": {},
   "outputs": [
    {
     "data": {
      "text/html": [
       "<div>\n",
       "<style scoped>\n",
       "    .dataframe tbody tr th:only-of-type {\n",
       "        vertical-align: middle;\n",
       "    }\n",
       "\n",
       "    .dataframe tbody tr th {\n",
       "        vertical-align: top;\n",
       "    }\n",
       "\n",
       "    .dataframe thead th {\n",
       "        text-align: right;\n",
       "    }\n",
       "</style>\n",
       "<table border=\"1\" class=\"dataframe\">\n",
       "  <thead>\n",
       "    <tr style=\"text-align: right;\">\n",
       "      <th></th>\n",
       "      <th>Unnamed: 0.2</th>\n",
       "      <th>Unnamed: 0.1</th>\n",
       "      <th>Unnamed: 0</th>\n",
       "      <th>PMID</th>\n",
       "      <th>SCORE_0918</th>\n",
       "      <th>PMCID</th>\n",
       "      <th>ABSTRACT</th>\n",
       "      <th>FULLTEXT</th>\n",
       "      <th>SCORE_0110A</th>\n",
       "      <th>SCORE_0110B</th>\n",
       "      <th>SCORE_0110C</th>\n",
       "    </tr>\n",
       "  </thead>\n",
       "  <tbody>\n",
       "    <tr>\n",
       "      <th>0</th>\n",
       "      <td>0</td>\n",
       "      <td>0</td>\n",
       "      <td>0</td>\n",
       "      <td>37682469</td>\n",
       "      <td>97.26</td>\n",
       "      <td>NaN</td>\n",
       "      <td>Analysis of Chromatin Accessibility, Histone M...</td>\n",
       "      <td>Analysis of Chromatin Accessibility, Histone M...</td>\n",
       "      <td>21.69</td>\n",
       "      <td>31.86</td>\n",
       "      <td>62.78</td>\n",
       "    </tr>\n",
       "    <tr>\n",
       "      <th>1</th>\n",
       "      <td>1</td>\n",
       "      <td>1</td>\n",
       "      <td>1</td>\n",
       "      <td>37663788</td>\n",
       "      <td>97.25</td>\n",
       "      <td>PMC10469926</td>\n",
       "      <td>Improved prediction of MHC-peptide binding usi...</td>\n",
       "      <td>Improved prediction of MHC-peptide binding usi...</td>\n",
       "      <td>0.89</td>\n",
       "      <td>0.18</td>\n",
       "      <td>1.14</td>\n",
       "    </tr>\n",
       "    <tr>\n",
       "      <th>2</th>\n",
       "      <td>2</td>\n",
       "      <td>2</td>\n",
       "      <td>2</td>\n",
       "      <td>37662358</td>\n",
       "      <td>97.22</td>\n",
       "      <td>PMC10473580</td>\n",
       "      <td>Active learning of enhancer and silencer regul...</td>\n",
       "      <td>Active learning of enhancer and silencer regul...</td>\n",
       "      <td>1.42</td>\n",
       "      <td>3.30</td>\n",
       "      <td>14.42</td>\n",
       "    </tr>\n",
       "    <tr>\n",
       "      <th>3</th>\n",
       "      <td>3</td>\n",
       "      <td>3</td>\n",
       "      <td>3</td>\n",
       "      <td>37669185</td>\n",
       "      <td>97.22</td>\n",
       "      <td>NaN</td>\n",
       "      <td>Experts Collaboration Learning for Continual M...</td>\n",
       "      <td>Experts Collaboration Learning for Continual M...</td>\n",
       "      <td>0.38</td>\n",
       "      <td>0.06</td>\n",
       "      <td>0.54</td>\n",
       "    </tr>\n",
       "    <tr>\n",
       "      <th>4</th>\n",
       "      <td>4</td>\n",
       "      <td>4</td>\n",
       "      <td>4</td>\n",
       "      <td>37685874</td>\n",
       "      <td>97.21</td>\n",
       "      <td>PMC10487524</td>\n",
       "      <td>A Leukemic Target with a Thousand Faces: The M...</td>\n",
       "      <td>A Leukemic Target with a Thousand Faces: The M...</td>\n",
       "      <td>1.81</td>\n",
       "      <td>0.93</td>\n",
       "      <td>37.44</td>\n",
       "    </tr>\n",
       "  </tbody>\n",
       "</table>\n",
       "</div>"
      ],
      "text/plain": [
       "   Unnamed: 0.2  Unnamed: 0.1  Unnamed: 0      PMID  SCORE_0918        PMCID  \\\n",
       "0             0             0           0  37682469       97.26          NaN   \n",
       "1             1             1           1  37663788       97.25  PMC10469926   \n",
       "2             2             2           2  37662358       97.22  PMC10473580   \n",
       "3             3             3           3  37669185       97.22          NaN   \n",
       "4             4             4           4  37685874       97.21  PMC10487524   \n",
       "\n",
       "                                            ABSTRACT  \\\n",
       "0  Analysis of Chromatin Accessibility, Histone M...   \n",
       "1  Improved prediction of MHC-peptide binding usi...   \n",
       "2  Active learning of enhancer and silencer regul...   \n",
       "3  Experts Collaboration Learning for Continual M...   \n",
       "4  A Leukemic Target with a Thousand Faces: The M...   \n",
       "\n",
       "                                            FULLTEXT  SCORE_0110A  \\\n",
       "0  Analysis of Chromatin Accessibility, Histone M...        21.69   \n",
       "1  Improved prediction of MHC-peptide binding usi...         0.89   \n",
       "2  Active learning of enhancer and silencer regul...         1.42   \n",
       "3  Experts Collaboration Learning for Continual M...         0.38   \n",
       "4  A Leukemic Target with a Thousand Faces: The M...         1.81   \n",
       "\n",
       "   SCORE_0110B  SCORE_0110C  \n",
       "0        31.86        62.78  \n",
       "1         0.18         1.14  \n",
       "2         3.30        14.42  \n",
       "3         0.06         0.54  \n",
       "4         0.93        37.44  "
      ]
     },
     "execution_count": 3,
     "metadata": {},
     "output_type": "execute_result"
    }
   ],
   "source": [
    "DF_FP = cfg.evaluation.celltriage.oneweek_txt\n",
    "df = pd.read_csv(DF_FP , sep = \"\\t\")\n",
    "df.head()"
   ]
  },
  {
   "cell_type": "markdown",
   "metadata": {},
   "source": [
    "##  0918 model\n",
    "baseline"
   ]
  },
  {
   "cell_type": "code",
   "execution_count": 39,
   "metadata": {},
   "outputs": [
    {
     "data": {
      "text/plain": [
       "<seaborn.axisgrid.FacetGrid at 0x7f0da9d4aa40>"
      ]
     },
     "execution_count": 39,
     "metadata": {},
     "output_type": "execute_result"
    },
    {
     "data": {
      "image/png": "[encoded data removed]",
      "text/plain": [
       "<Figure size 500x500 with 1 Axes>"
      ]
     },
     "metadata": {},
     "output_type": "display_data"
    }
   ],
   "source": [
    "# hist = df[\"PMID,SCORE_0918\"].hist(bins=3)\n",
    "sns.displot(df['SCORE_0918'],  kde=False, bins=20)"
   ]
  },
  {
   "cell_type": "markdown",
   "metadata": {},
   "source": [
    "## Model 0110A\n",
    "silver/ft/pmbert"
   ]
  },
  {
   "cell_type": "code",
   "execution_count": 34,
   "metadata": {},
   "outputs": [
    {
     "name": "stderr",
     "output_type": "stream",
     "text": [
      "100%|██████████| 28609/28609 [08:51<00:00, 53.83it/s]\n"
     ]
    }
   ],
   "source": [
    "LABELS = [\"PMID\"] # Dummy labels, not to be used\n",
    "MAX_TOKEN_COUNT = cfg.model.max_token_count\n",
    "TEXT_COL = cfg.model.text_col.fulltext\n",
    "CHECKPOINT_PATH = cfg.checkpoint.train_silver.fulltext.pmbert\n",
    "LM_MODEL_NAME = cfg.model.lm.pmbert\n",
    "tagger = CtTagger(CHECKPOINT_PATH, LABELS, TEXT_COL, LM_MODEL_NAME)\n",
    "predictions, _ = tagger.predict(df)\n",
    "y_pred_score = predictions.numpy().flatten()\n"
   ]
  },
  {
   "cell_type": "code",
   "execution_count": 38,
   "metadata": {},
   "outputs": [
    {
     "data": {
      "text/plain": [
       "<seaborn.axisgrid.FacetGrid at 0x7f0da8dff2b0>"
      ]
     },
     "execution_count": 38,
     "metadata": {},
     "output_type": "execute_result"
    },
    {
     "data": {
      "image/png": "[encoded data removed]",
      "text/plain": [
       "<Figure size 500x500 with 1 Axes>"
      ]
     },
     "metadata": {},
     "output_type": "display_data"
    }
   ],
   "source": [
    "df['SCORE_0110A'] = np.round(y_pred_score*100,2)\n",
    "sns.displot(df['SCORE_0110A'],  kde=False, bins=20)"
   ]
  },
  {
   "cell_type": "markdown",
   "metadata": {},
   "source": [
    "## Model 0110B\n",
    "bronze/ft/pmbert"
   ]
  },
  {
   "cell_type": "code",
   "execution_count": 37,
   "metadata": {},
   "outputs": [
    {
     "name": "stderr",
     "output_type": "stream",
     "text": [
      "100%|██████████| 28609/28609 [09:00<00:00, 52.92it/s]\n"
     ]
    }
   ],
   "source": [
    "LABELS = [\"PMID\"] # Dummy labels, not to be used\n",
    "MAX_TOKEN_COUNT = cfg.model.max_token_count\n",
    "TEXT_COL = cfg.model.text_col.fulltext\n",
    "CHECKPOINT_PATH = cfg.checkpoint.train_bronze.fulltext.pmbert\n",
    "LM_MODEL_NAME = cfg.model.lm.pmbert\n",
    "tagger = CtTagger(CHECKPOINT_PATH, LABELS, TEXT_COL, LM_MODEL_NAME)\n",
    "predictions, _ = tagger.predict(df)\n",
    "B_pred_score = predictions.numpy().flatten()"
   ]
  },
  {
   "cell_type": "code",
   "execution_count": 40,
   "metadata": {},
   "outputs": [
    {
     "data": {
      "text/plain": [
       "<seaborn.axisgrid.FacetGrid at 0x7f0ddf3daad0>"
      ]
     },
     "execution_count": 40,
     "metadata": {},
     "output_type": "execute_result"
    },
    {
     "data": {
      "image/png": "[encoded data removed]",
      "text/plain": [
       "<Figure size 500x500 with 1 Axes>"
      ]
     },
     "metadata": {},
     "output_type": "display_data"
    }
   ],
   "source": [
    "df['SCORE_0110B'] = np.round(B_pred_score*100,2)\n",
    "sns.displot(df['SCORE_0110B'],  kde=False, bins = 20)"
   ]
  },
  {
   "cell_type": "markdown",
   "metadata": {},
   "source": [
    "## Model 0110C\n",
    "ml_abs/ft/pmbert"
   ]
  },
  {
   "cell_type": "code",
   "execution_count": 4,
   "metadata": {},
   "outputs": [
    {
     "name": "stderr",
     "output_type": "stream",
     "text": [
      "100%|██████████| 28609/28609 [09:16<00:00, 51.45it/s]\n"
     ]
    }
   ],
   "source": [
    "LABELS = [\"PMID\"] # Dummy labels, not to be used\n",
    "MAX_TOKEN_COUNT = cfg.model.max_token_count\n",
    "TEXT_COL = cfg.model.text_col.fulltext\n",
    "CHECKPOINT_PATH = cfg.checkpoint.train_ml_ab.fulltext.pmbert\n",
    "LM_MODEL_NAME = cfg.model.lm.pmbert\n",
    "tagger = CtTagger(CHECKPOINT_PATH, LABELS, TEXT_COL, LM_MODEL_NAME)\n",
    "predictions, _ = tagger.predict(df)\n",
    "C_pred_score = predictions.numpy().flatten()"
   ]
  },
  {
   "cell_type": "code",
   "execution_count": 5,
   "metadata": {},
   "outputs": [
    {
     "data": {
      "text/plain": [
       "<seaborn.axisgrid.FacetGrid at 0x7feca984fb20>"
      ]
     },
     "execution_count": 5,
     "metadata": {},
     "output_type": "execute_result"
    },
    {
     "data": {
      "image/png": "[encoded data removed]",
      "text/plain": [
       "<Figure size 500x500 with 1 Axes>"
      ]
     },
     "metadata": {},
     "output_type": "display_data"
    }
   ],
   "source": [
    "df['SCORE_0110C'] = np.round(C_pred_score*100,2)\n",
    "sns.displot(df['SCORE_0110C'],  kde=False, bins = 20)"
   ]
  },
  {
   "cell_type": "markdown",
   "metadata": {},
   "source": [
    "## Model 0110D\n",
    "bronze_abs/ft/pmbert"
   ]
  },
  {
   "cell_type": "code",
   "execution_count": 4,
   "metadata": {},
   "outputs": [
    {
     "name": "stderr",
     "output_type": "stream",
     "text": [
      "100%|██████████| 28609/28609 [09:15<00:00, 51.53it/s]\n"
     ]
    }
   ],
   "source": [
    "LABELS = [\"PMID\"] # Dummy labels, not to be used\n",
    "MAX_TOKEN_COUNT = cfg.model.max_token_count\n",
    "TEXT_COL = cfg.model.text_col.fulltext\n",
    "CHECKPOINT_PATH = cfg.checkpoint.train_bronze_ab.fulltext.pmbert\n",
    "LM_MODEL_NAME = cfg.model.lm.pmbert\n",
    "tagger = CtTagger(CHECKPOINT_PATH, LABELS, TEXT_COL, LM_MODEL_NAME)\n",
    "predictions, _ = tagger.predict(df)\n",
    "D_pred_score = predictions.numpy().flatten()"
   ]
  },
  {
   "cell_type": "code",
   "execution_count": 6,
   "metadata": {},
   "outputs": [
    {
     "data": {
      "text/plain": [
       "<seaborn.axisgrid.FacetGrid at 0x7fb04ab1fd90>"
      ]
     },
     "execution_count": 6,
     "metadata": {},
     "output_type": "execute_result"
    },
    {
     "data": {
      "image/png": "[encoded data removed]",
      "text/plain": [
       "<Figure size 500x500 with 1 Axes>"
      ]
     },
     "metadata": {},
     "output_type": "display_data"
    }
   ],
   "source": [
    "df['SCORE_0110D'] = np.round(D_pred_score*100,2)\n",
    "sns.displot(df['SCORE_0110D'],  kde=False, bins = 20)"
   ]
  },
  {
   "cell_type": "markdown",
   "metadata": {},
   "source": [
    "Write Results"
   ]
  },
  {
   "cell_type": "code",
   "execution_count": 9,
   "metadata": {},
   "outputs": [],
   "source": [
    "FP_0110A = cfg.evaluation.celltriage.oneweek_0110A\n",
    "df_0110A = df[[\"PMID\", \"SCORE_0110A\"]].sort_values(by=['SCORE_0110A'], ascending=False)\n",
    "df_0110A.to_csv(FP_0110A,sep='\\t')\n",
    "\n",
    "FP_0110B = cfg.evaluation.celltriage.oneweek_0110B\n",
    "df_0110B = df[[\"PMID\", \"SCORE_0110B\"]].sort_values(by=['SCORE_0110B'], ascending=False)\n",
    "df_0110B.to_csv(FP_0110B,sep='\\t')\n",
    "\n",
    "FP_0110C = cfg.evaluation.celltriage.oneweek_0110C\n",
    "df_0110C = df[[\"PMID\", \"SCORE_0110C\"]].sort_values(by=['SCORE_0110C'], ascending=False)\n",
    "df_0110C.to_csv(FP_0110C,sep='\\t')\n",
    "\n",
    "FP_0110D = cfg.evaluation.celltriage.oneweek_0110D\n",
    "df_0110D = df[[\"PMID\", \"SCORE_0110D\"]].sort_values(by=['SCORE_0110D'], ascending=False)\n",
    "df_0110D.to_csv(FP_0110D,sep='\\t')\n",
    "\n",
    "df.to_csv(DF_FP,sep='\\t')"
   ]
  }
 ],
 "metadata": {
  "kernelspec": {
   "display_name": ".venv",
   "language": "python",
   "name": "python3"
  },
  "language_info": {
   "codemirror_mode": {
    "name": "ipython",
    "version": 3
   },
   "file_extension": ".py",
   "mimetype": "text/x-python",
   "name": "python",
   "nbconvert_exporter": "python",
   "pygments_lexer": "ipython3",
   "version": "3.10.12"
  },
  "orig_nbformat": 4
 },
 "nbformat": 4,
 "nbformat_minor": 2
}
