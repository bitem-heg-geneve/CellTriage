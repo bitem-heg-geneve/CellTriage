{
 "cells": [
  {
   "cell_type": "code",
   "execution_count": 23,
   "metadata": {},
   "outputs": [],
   "source": [
    "import os\n",
    "from base_fns import get_local_folder\n",
    "os.chdir(os.path.dirname(get_local_folder()))\n",
    "\n",
    "import pandas as pd\n",
    "import tabulate as tb\n",
    "from hydra import compose, initialize\n",
    "from omegaconf import OmegaConf\n",
    "import random\n",
    "from munch import Munch\n",
    "import numpy as np\n",
    "from pandarallel import pandarallel\n",
    "from orjson import loads\n",
    "from pathlib import Path\n",
    "from script.ct_model import CtTagger\n",
    "\n",
    "with initialize(\n",
    "    version_base=None,\n",
    "    config_path=\"../cfg\",\n",
    "):\n",
    "    cfg = compose(config_name=\"main\")\n",
    "\n",
    "random.seed(cfg.random.seed)\n",
    "np.random.seed(cfg.random.seed)\n"
   ]
  },
  {
   "cell_type": "markdown",
   "metadata": {},
   "source": [
    "## PMIDs"
   ]
  },
  {
   "cell_type": "code",
   "execution_count": 4,
   "metadata": {},
   "outputs": [
    {
     "data": {
      "text/plain": [
       "28609"
      ]
     },
     "execution_count": 4,
     "metadata": {},
     "output_type": "execute_result"
    }
   ],
   "source": [
    "\n",
    "\n",
    "DF_FP = cfg.evaluation.celltriage.oneweek\n",
    "df = pd.read_csv(DF_FP)\n",
    "len(df)\n"
   ]
  },
  {
   "cell_type": "markdown",
   "metadata": {},
   "source": [
    "## Articles"
   ]
  },
  {
   "cell_type": "code",
   "execution_count": 5,
   "metadata": {},
   "outputs": [
    {
     "name": "stdout",
     "output_type": "stream",
     "text": [
      "repository contains text for 95239 articles\n"
     ]
    }
   ],
   "source": [
    "repo_fn = os.listdir(cfg.data.raw.article)\n",
    "print(f\"repository contains text for {len(repo_fn)} articles\")"
   ]
  },
  {
   "cell_type": "markdown",
   "metadata": {},
   "source": [
    "## Abstract and fulltext datasets"
   ]
  },
  {
   "cell_type": "code",
   "execution_count": 10,
   "metadata": {},
   "outputs": [
    {
     "name": "stdout",
     "output_type": "stream",
     "text": [
      "INFO: Pandarallel will run on 16 workers.\n",
      "INFO: Pandarallel will use Memory file system to transfer data between the main process and workers.\n"
     ]
    },
    {
     "data": {
      "text/html": [
       "<div>\n",
       "<style scoped>\n",
       "    .dataframe tbody tr th:only-of-type {\n",
       "        vertical-align: middle;\n",
       "    }\n",
       "\n",
       "    .dataframe tbody tr th {\n",
       "        vertical-align: top;\n",
       "    }\n",
       "\n",
       "    .dataframe thead th {\n",
       "        text-align: right;\n",
       "    }\n",
       "</style>\n",
       "<table border=\"1\" class=\"dataframe\">\n",
       "  <thead>\n",
       "    <tr style=\"text-align: right;\">\n",
       "      <th></th>\n",
       "      <th>PMID</th>\n",
       "      <th>SCORE_0918</th>\n",
       "      <th>PMCID</th>\n",
       "      <th>ABSTRACT</th>\n",
       "      <th>FULLTEXT</th>\n",
       "    </tr>\n",
       "  </thead>\n",
       "  <tbody>\n",
       "    <tr>\n",
       "      <th>0</th>\n",
       "      <td>37682469</td>\n",
       "      <td>97.26</td>\n",
       "      <td></td>\n",
       "      <td>Analysis of Chromatin Accessibility, Histone M...</td>\n",
       "      <td>Analysis of Chromatin Accessibility, Histone M...</td>\n",
       "    </tr>\n",
       "  </tbody>\n",
       "</table>\n",
       "</div>"
      ],
      "text/plain": [
       "       PMID  SCORE_0918 PMCID  \\\n",
       "0  37682469       97.26         \n",
       "\n",
       "                                            ABSTRACT  \\\n",
       "0  Analysis of Chromatin Accessibility, Histone M...   \n",
       "\n",
       "                                            FULLTEXT  \n",
       "0  Analysis of Chromatin Accessibility, Histone M...  "
      ]
     },
     "execution_count": 10,
     "metadata": {},
     "output_type": "execute_result"
    }
   ],
   "source": [
    "pandarallel.initialize()\n",
    "\n",
    "def get_article(row):\n",
    "    article_fn = str(int(row.PMID)) + '.json'\n",
    "    repo_fn = os.listdir(cfg.data.raw.article)\n",
    "    if article_fn in repo_fn:\n",
    "        with open(os.path.join(cfg.data.raw.article, article_fn)) as f:\n",
    "            article = loads(f.read())\n",
    "            # if fulltext is not returned then used abstract.\n",
    "            if not article[\"FULLTEXT\"]:\n",
    "                article[\"FULLTEXT\"] = article[\"ABSTRACT\"]\n",
    "            \n",
    "            return pd.Series(article) \n",
    "    else:\n",
    "        return pd.Series({}) \n",
    "\n",
    "def data_text(df_in):\n",
    "    df_article = df_in.parallel_apply(get_article, axis=1, result_type=\"expand\")\n",
    "    # df_article = df_in.apply(get_article, axis=1, result_type=\"expand\")\n",
    "    df_article = df_article.drop('PMID', axis=1)\n",
    "    return pd.concat([df_in, df_article], axis=1)\n",
    "    # return df_article\n"
   ]
  },
  {
   "cell_type": "code",
   "execution_count": 11,
   "metadata": {},
   "outputs": [
    {
     "data": {
      "text/html": [
       "<div>\n",
       "<style scoped>\n",
       "    .dataframe tbody tr th:only-of-type {\n",
       "        vertical-align: middle;\n",
       "    }\n",
       "\n",
       "    .dataframe tbody tr th {\n",
       "        vertical-align: top;\n",
       "    }\n",
       "\n",
       "    .dataframe thead th {\n",
       "        text-align: right;\n",
       "    }\n",
       "</style>\n",
       "<table border=\"1\" class=\"dataframe\">\n",
       "  <thead>\n",
       "    <tr style=\"text-align: right;\">\n",
       "      <th></th>\n",
       "      <th>PMID</th>\n",
       "      <th>SCORE_0918</th>\n",
       "      <th>PMCID</th>\n",
       "      <th>ABSTRACT</th>\n",
       "      <th>FULLTEXT</th>\n",
       "    </tr>\n",
       "  </thead>\n",
       "  <tbody>\n",
       "    <tr>\n",
       "      <th>0</th>\n",
       "      <td>37682469</td>\n",
       "      <td>97.26</td>\n",
       "      <td></td>\n",
       "      <td>Analysis of Chromatin Accessibility, Histone M...</td>\n",
       "      <td>Analysis of Chromatin Accessibility, Histone M...</td>\n",
       "    </tr>\n",
       "    <tr>\n",
       "      <th>1</th>\n",
       "      <td>37663788</td>\n",
       "      <td>97.25</td>\n",
       "      <td>PMC10469926</td>\n",
       "      <td>Improved prediction of MHC-peptide binding usi...</td>\n",
       "      <td>Improved prediction of MHC-peptide binding usi...</td>\n",
       "    </tr>\n",
       "    <tr>\n",
       "      <th>2</th>\n",
       "      <td>37662358</td>\n",
       "      <td>97.22</td>\n",
       "      <td>PMC10473580</td>\n",
       "      <td>Active learning of enhancer and silencer regul...</td>\n",
       "      <td>Active learning of enhancer and silencer regul...</td>\n",
       "    </tr>\n",
       "    <tr>\n",
       "      <th>3</th>\n",
       "      <td>37669185</td>\n",
       "      <td>97.22</td>\n",
       "      <td></td>\n",
       "      <td>Experts Collaboration Learning for Continual M...</td>\n",
       "      <td>Experts Collaboration Learning for Continual M...</td>\n",
       "    </tr>\n",
       "    <tr>\n",
       "      <th>4</th>\n",
       "      <td>37685874</td>\n",
       "      <td>97.21</td>\n",
       "      <td>PMC10487524</td>\n",
       "      <td>A Leukemic Target with a Thousand Faces: The M...</td>\n",
       "      <td>A Leukemic Target with a Thousand Faces: The M...</td>\n",
       "    </tr>\n",
       "  </tbody>\n",
       "</table>\n",
       "</div>"
      ],
      "text/plain": [
       "       PMID  SCORE_0918        PMCID  \\\n",
       "0  37682469       97.26                \n",
       "1  37663788       97.25  PMC10469926   \n",
       "2  37662358       97.22  PMC10473580   \n",
       "3  37669185       97.22                \n",
       "4  37685874       97.21  PMC10487524   \n",
       "\n",
       "                                            ABSTRACT  \\\n",
       "0  Analysis of Chromatin Accessibility, Histone M...   \n",
       "1  Improved prediction of MHC-peptide binding usi...   \n",
       "2  Active learning of enhancer and silencer regul...   \n",
       "3  Experts Collaboration Learning for Continual M...   \n",
       "4  A Leukemic Target with a Thousand Faces: The M...   \n",
       "\n",
       "                                            FULLTEXT  \n",
       "0  Analysis of Chromatin Accessibility, Histone M...  \n",
       "1  Improved prediction of MHC-peptide binding usi...  \n",
       "2  Active learning of enhancer and silencer regul...  \n",
       "3  Experts Collaboration Learning for Continual M...  \n",
       "4  A Leukemic Target with a Thousand Faces: The M...  "
      ]
     },
     "execution_count": 11,
     "metadata": {},
     "output_type": "execute_result"
    }
   ],
   "source": [
    "df_out =  data_text(df)\n",
    "df_out.head()"
   ]
  },
  {
   "cell_type": "markdown",
   "metadata": {},
   "source": [
    "### Samples without abstract-text."
   ]
  },
  {
   "cell_type": "code",
   "execution_count": 18,
   "metadata": {},
   "outputs": [
    {
     "data": {
      "text/plain": [
       "0"
      ]
     },
     "execution_count": 18,
     "metadata": {},
     "output_type": "execute_result"
    }
   ],
   "source": [
    "len(df_out[df_out.ABSTRACT.isnull()])"
   ]
  },
  {
   "cell_type": "code",
   "execution_count": 24,
   "metadata": {},
   "outputs": [],
   "source": [
    "df_out.to_csv(cfg.evaluation.celltriage.oneweek_txt, sep = \"\\t\")\n"
   ]
  }
 ],
 "metadata": {
  "kernelspec": {
   "display_name": ".venv",
   "language": "python",
   "name": "python3"
  },
  "language_info": {
   "codemirror_mode": {
    "name": "ipython",
    "version": 3
   },
   "file_extension": ".py",
   "mimetype": "text/x-python",
   "name": "python",
   "nbconvert_exporter": "python",
   "pygments_lexer": "ipython3",
   "version": "3.10.12"
  },
  "orig_nbformat": 4
 },
 "nbformat": 4,
 "nbformat_minor": 2
}
