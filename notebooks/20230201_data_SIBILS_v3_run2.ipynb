{
 "cells": [
  {
   "attachments": {},
   "cell_type": "markdown",
   "metadata": {},
   "source": [
    "# Data extraction\n",
    "parameters:\n",
    "- run date: 2023_02_22\n",
    "- dataset: 2023_02_01\n",
    "- fetch_api = \"http://candy.hesge.ch:8900/SIBiLS/fetch\""
   ]
  },
  {
   "cell_type": "code",
   "execution_count": 10,
   "metadata": {},
   "outputs": [
    {
     "name": "stdout",
     "output_type": "stream",
     "text": [
      "/home/paulvanrijen/data/CellTriage\n"
     ]
    }
   ],
   "source": [
    "\n",
    "import os\n",
    "from base_fns import get_local_folder\n",
    "project_path = os.path.join(get_local_folder(), '..' )\n",
    "%cd $project_path\n",
    "\n",
    "from src.utils import split_list\n",
    "\n",
    "from pathlib import Path\n",
    "from IPython.display import display\n",
    "from tqdm import tqdm\n",
    "import requests\n",
    "import orjson\n",
    "import matplotlib.pyplot as plt\n",
    "from matplotlib_venn import venn2, venn2_circles\n"
   ]
  },
  {
   "attachments": {},
   "cell_type": "markdown",
   "metadata": {},
   "source": [
    "\n",
    "## PMIDS\n",
    "\n",
    "\n"
   ]
  },
  {
   "cell_type": "code",
   "execution_count": 20,
   "metadata": {},
   "outputs": [
    {
     "name": "stdout",
     "output_type": "stream",
     "text": [
      "#neg pmids: 644\n",
      "#pos pmids: 22719\n"
     ]
    }
   ],
   "source": [
    "# read samples\n",
    "NEG_FP = \"./data/20230201/publication_negative_set.tsv\"\n",
    "POS_FP = \"./data/20230201/publication_positive_set.tsv\"\n",
    "\n",
    "with open(NEG_FP, \"r\") as f:\n",
    "    neg_set = f.read().splitlines() [1:]\n",
    "    # neg_set = neg_set[1:]\n",
    "print(f\"#neg pmids: {len(neg_set)}\")\n",
    "\n",
    "with open(POS_FP, \"r\") as f:\n",
    "    pos_set = f.read().splitlines() [1:]\n",
    "print(f\"#pos pmids: {len(pos_set)}\")\n"
   ]
  },
  {
   "attachments": {},
   "cell_type": "markdown",
   "metadata": {},
   "source": [
    "## SIBiLS"
   ]
  },
  {
   "attachments": {},
   "cell_type": "markdown",
   "metadata": {},
   "source": [
    "### negatives"
   ]
  },
  {
   "cell_type": "code",
   "execution_count": 22,
   "metadata": {},
   "outputs": [
    {
     "name": "stderr",
     "output_type": "stream",
     "text": [
      "2it [00:12,  6.28s/it]\n"
     ]
    },
    {
     "name": "stdout",
     "output_type": "stream",
     "text": [
      "#neg documents fetched: 583\n"
     ]
    }
   ],
   "source": [
    "\n",
    "URL_API = \"http://candy.hesge.ch:8900/SIBiLS/fetch\"\n",
    "NEG_JSON_FP = \"./data/20230201/SIBiLS_v3_run2/publication_negative_set.json\"\n",
    "CHUNK_SIZE = 500\n",
    "\n",
    "concat_response = []\n",
    "for chunk in tqdm(split_list(neg_set, CHUNK_SIZE)):\n",
    "    params = {\"col\": \"medline\",\n",
    "              \"ids\": \",\".join(chunk)}\n",
    "    r = requests.post(url=URL_API, params=params)\n",
    "    concat_response.extend(orjson.loads(r.text))\n",
    "\n",
    "with open(NEG_JSON_FP, \"wb\") as f:\n",
    "    f.write(orjson.dumps(concat_response))\n",
    "\n",
    "\n",
    "print(\"#neg documents fetched:\", len(concat_response))"
   ]
  },
  {
   "cell_type": "code",
   "execution_count": 25,
   "metadata": {},
   "outputs": [
    {
     "name": "stdout",
     "output_type": "stream",
     "text": [
      "#neg documents not fetched: 61\n",
      "{'34941232', '34941234', '34941230', '34941231', '20301685', '35274911', '35050561', '31643973', '34941236', '36282940', '34648249', '34003615', '35274906', '26389331', '35267247', '24175354', '35050562', '34648250', '36351164', '28520346', '34941233', '36351161', '34097371', '20301750', '36351157', '34941235', '20945554', '36512654', '20301483', '35274912', '20301490', '29939552', '34756845', '20301652', '36351156', '20301779', '36351159', '34756847', '34914343', '31643906', '35704653', '35274913', '24027799', '34648251', '34941228', '26389437', '31082146', '20301761', '27336128', '35032962', '20301508', '34756846', '35420740', '36351163', '33270410', '20301336', '26389163', '36351160', '36351158', '34941229', '36351162'}\n"
     ]
    }
   ],
   "source": [
    "NEG_FAILED_JSON = \"./data/20230201/SIBiLS_v3_run2/publication_negative.failed.json\"\n",
    "\n",
    "with open(NEG_JSON_FP, \"rb\") as f:\n",
    "    out_neg_json = orjson.loads(f.read())\n",
    "    out_neg_pmids = set([doc[\"record\"][\"pmid\"] for doc in out_neg_json])\n",
    "in_neg_pmids = set(neg_set)\n",
    "delta_neg_pmids = in_neg_pmids - out_neg_pmids\n",
    "\n",
    "with open(NEG_FAILED_JSON, \"wb\") as f:\n",
    "    f.write(orjson.dumps(list(delta_neg_pmids)))\n",
    "\n",
    "\n",
    "print(\"#neg documents not fetched:\", len(delta_neg_pmids))\n",
    "print(delta_neg_pmids)\n"
   ]
  },
  {
   "attachments": {},
   "cell_type": "markdown",
   "metadata": {},
   "source": [
    "Some examples:\n",
    "\n",
    "http://candy.hesge.ch:8900/SIBiLS/fetch?col=medline&ids=36351161,35704653,26389163\n",
    "https://pubmed.ncbi.nlm.nih.gov/36351161/  \n",
    "https://pubmed.ncbi.nlm.nih.gov/35704653/  \n",
    "https://pubmed.ncbi.nlm.nih.gov/26389163/  \n"
   ]
  }
 ],
 "metadata": {
  "kernelspec": {
   "display_name": ".venv",
   "language": "python",
   "name": "python3"
  },
  "language_info": {
   "codemirror_mode": {
    "name": "ipython",
    "version": 3
   },
   "file_extension": ".py",
   "mimetype": "text/x-python",
   "name": "python",
   "nbconvert_exporter": "python",
   "pygments_lexer": "ipython3",
   "version": "3.10.6"
  },
  "orig_nbformat": 4,
  "vscode": {
   "interpreter": {
    "hash": "09e89c8849c8b19ffa24f76a8fb04e45c1ae0fc16f10744ec27c8d28d9112ca3"
   }
  }
 },
 "nbformat": 4,
 "nbformat_minor": 2
}
