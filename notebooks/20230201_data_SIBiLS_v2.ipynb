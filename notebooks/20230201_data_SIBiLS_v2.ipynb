{
 "cells": [
  {
   "attachments": {},
   "cell_type": "markdown",
   "metadata": {},
   "source": [
    "# Data extraction\n",
    "parameters:\n",
    "- dataset: 2023_02_01\n",
    "- fetch_api = \"https://candy.hesge.ch/SIBiLS/MEDLINE/fetch.jsp\"\n"
   ]
  },
  {
   "cell_type": "code",
   "execution_count": null,
   "metadata": {},
   "outputs": [],
   "source": []
  },
  {
   "cell_type": "code",
   "execution_count": 13,
   "metadata": {},
   "outputs": [],
   "source": [
    "\n",
    "\n",
    "import os\n",
    "from pathlib import Path\n",
    "from IPython.display import display\n",
    "import requests\n",
    "import orjson"
   ]
  },
  {
   "attachments": {},
   "cell_type": "markdown",
   "metadata": {},
   "source": [
    "\n",
    "## PMIDS\n",
    "\n",
    "\n"
   ]
  },
  {
   "cell_type": "code",
   "execution_count": 14,
   "metadata": {},
   "outputs": [
    {
     "name": "stdout",
     "output_type": "stream",
     "text": [
      "#neg pmids: 645\n",
      "#pos pmids: 22720\n"
     ]
    }
   ],
   "source": [
    "# read samples\n",
    "NEG_FP = '../data/20230201/publication_negative_set.tsv'\n",
    "POS_FP = '../data/20230201/publication_positive_set.tsv'\n",
    "\n",
    "with open(NEG_FP, 'r') as f:\n",
    "    neg_set = f.read().splitlines() \n",
    "print(f'#neg pmids: {len(neg_set)}')    \n",
    "\n",
    "with open(POS_FP, 'r') as f:\n",
    "    pos_set = f.read().splitlines() \n",
    "print(f'#pos pmids: {len(pos_set)}')    "
   ]
  },
  {
   "attachments": {},
   "cell_type": "markdown",
   "metadata": {},
   "source": [
    "## SIBiLS"
   ]
  },
  {
   "attachments": {},
   "cell_type": "markdown",
   "metadata": {},
   "source": [
    "### negatives"
   ]
  },
  {
   "cell_type": "code",
   "execution_count": 18,
   "metadata": {},
   "outputs": [
    {
     "name": "stdout",
     "output_type": "stream",
     "text": [
      "#neg documents: 466\n"
     ]
    }
   ],
   "source": [
    "URL_API = \"https://candy.hesge.ch/SIBiLS/MEDLINE/fetch.jsp\"\n",
    "NEG_JSON_FP = '../data/20230201/SIBiLS_v2/publication_negative_set.json'\n",
    "\n",
    "params = {\"ids\": \",\".join(neg_set)}\n",
    "r = requests.post(url = URL_API, params = params)\n",
    "with open(NEG_JSON_FP,\"w\",encoding=\"utf-8\") as f:\n",
    "   f.write(r.text)\n",
    "\n",
    "print('#neg documents:', r.text.count('pmid'))\n"
   ]
  },
  {
   "attachments": {},
   "cell_type": "markdown",
   "metadata": {},
   "source": [
    "No documents are fetch for 179 out of 645 neg pmids!"
   ]
  },
  {
   "cell_type": "code",
   "execution_count": 19,
   "metadata": {},
   "outputs": [
    {
     "name": "stdout",
     "output_type": "stream",
     "text": [
      "#neg documents not fetched: 179\n",
      "{'36351156', '36183140', '35267247', '20301750', '36585755', '36209394', '36307207', '34914343', '34941236', '20301779', '36270773', '34756847', '34941230', '36505095', '36519010', '34941228', '36400562', '36307213', '36585754', '36270776', '36415204', '36183147', '36307210', '34003615', '36351157r', '35274906', '36606116', '31643906', '20301761', '36241373', '34097371', '36519011', '36241375', '36351161', '36241378', '35704653', '35420740', '36670520', '36209398', '36270769', '35274912', '36670521', '36183145', '20301685', '36400566', '35050562', '36428242', '36428241', '36209392', '36209393', '34756846', '36400561', '36608617', '26389163', '36351162', '36519009', '36332984', '36270770', '20945554', '34756845', '36332981', '36332987', '36636474', '26389437', '24175354', '33270410', '34941232', '36428245', '36608616', '36307209', '36585756', '36209396', '35032962', '24027799', '36332988', '36428243', '27336128', '36447930', '28520346', '36564868', '36451662', '31643973', '36351163', '36636475', '20301652', '36307212', '36351160', '36183146', '36636470', '36400560', '36183144', '34941229', '36564873', '36270774', '36636472', '36339973', '36636471', '36512654', '34941235', '36400564', '36209399', '36183142', '36263101', '36419540', '36400563', '36332986', '36606118', '36270771', '36428246', '36636473', '34648251', '34648250', '36270768', '36351159', '34941231', '36241379', '36608615', '36270772', '35274913', '20301508', '36332983', '36428249', '36415207', '36339981', '36241372', '36351158', '34941233', '36241371', '36183139', '36282940', '36332982', '36519007', '36519179', '36332985', '29939552', '36183143', '36209395', '36307208', '36307215', '36428247', '36351164', '36400565', '36428248', '36209400', '36564872', '36270775', '36324702', '36564871', '34648249', '36209397', '36400568', '36307211', '35274911', '36564870', '36241376', '36564866', '36307214', '31082146', '36400567', '36670519', '34941234', '36428244', '35050561', '36670523', '36608618', '20301483', '36670522', '36405557', '36187498', '36183141', '26389331', '36564867', '36564869', '36585757', '20301490', '36241377', '36241374', '36332980', '20301336'}\n"
     ]
    }
   ],
   "source": [
    "NEG_FAILED_JSON = '../data/20230201/SIBiLS_v2/publication_negative.failed.json'\n",
    "\n",
    "with open(NEG_JSON_FP, \"rb\") as f:\n",
    "   out_neg_json = orjson.loads(f.read())\n",
    "   out_neg_pmids= set([doc['infons']['pmid'] for doc in out_neg_json['documents']])\n",
    "in_neg_pmids=set(neg_set)\n",
    "delta_neg_pmids= in_neg_pmids - out_neg_pmids\n",
    "\n",
    "with open(NEG_FAILED_JSON, \"wb\") as f:\n",
    "    f.write(orjson.dumps(list(delta_neg_pmids)))\n",
    "\n",
    "\n",
    "print('#neg documents not fetched:', len(delta_neg_pmids))\n",
    "print(delta_neg_pmids)\n"
   ]
  },
  {
   "attachments": {},
   "cell_type": "markdown",
   "metadata": {},
   "source": [
    "Some examples:\n",
    "https://candy.hesge.ch/SIBiLS/MEDLINE/fetch.jsp?20301750,36636475,36400564\n",
    "\n",
    "https://pubmed.ncbi.nlm.nih.gov/20301750/\n",
    "https://pubmed.ncbi.nlm.nih.gov/36636475/\n",
    "https://pubmed.ncbi.nlm.nih.gov/36400564/\n"
   ]
  },
  {
   "attachments": {},
   "cell_type": "markdown",
   "metadata": {},
   "source": [
    "### positives"
   ]
  },
  {
   "cell_type": "code",
   "execution_count": 12,
   "metadata": {},
   "outputs": [
    {
     "name": "stdout",
     "output_type": "stream",
     "text": [
      "#pos documents: 22635\n"
     ]
    }
   ],
   "source": [
    "URL_API = \"https://candy.hesge.ch/SIBiLS/MEDLINE/fetch.jsp\"\n",
    "POS_JSON_FP = '../data/20230201/SIBilS_v2/publication_posive_set.json'\n",
    "CHUNK_SIZE = 500\n",
    "\n",
    "def split_list(lst, chunk_size):\n",
    "    for i in range(0, len(lst), chunk_size):\n",
    "        yield lst[i:i+chunk_size]\n",
    "\n",
    "concat_response = {'source':\"MEDLINE\", 'documents':[]}\n",
    "for chunk in split_list(pos_set, CHUNK_SIZE):\n",
    "   params = {\"ids\": \",\".join(chunk)}\n",
    "   r = requests.post(url = URL_API, params = params)\n",
    "#    print(r)\n",
    "   concat_response['documents'].extend(orjson.loads(r.text)['documents'])\n",
    "\n",
    "with open(POS_JSON_FP, \"wb\") as f:\n",
    "    f.write(orjson.dumps(concat_response))\n",
    "\n",
    "\n",
    "print('#pos documents:', len(concat_response['documents']))"
   ]
  }
 ],
 "metadata": {
  "kernelspec": {
   "display_name": ".venv",
   "language": "python",
   "name": "python3"
  },
  "language_info": {
   "codemirror_mode": {
    "name": "ipython",
    "version": 3
   },
   "file_extension": ".py",
   "mimetype": "text/x-python",
   "name": "python",
   "nbconvert_exporter": "python",
   "pygments_lexer": "ipython3",
   "version": "3.10.6"
  },
  "orig_nbformat": 4,
  "vscode": {
   "interpreter": {
    "hash": "09e89c8849c8b19ffa24f76a8fb04e45c1ae0fc16f10744ec27c8d28d9112ca3"
   }
  }
 },
 "nbformat": 4,
 "nbformat_minor": 2
}
