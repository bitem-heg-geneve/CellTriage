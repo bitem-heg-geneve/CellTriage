{
 "cells": [
  {
   "cell_type": "code",
   "execution_count": 9,
   "metadata": {},
   "outputs": [],
   "source": [
    "# Sampling strategies on 20220201 dataset\n",
    "\n",
    "\n"
   ]
  },
  {
   "attachments": {},
   "cell_type": "markdown",
   "metadata": {},
   "source": [
    "## Baseline: no sampling\n",
    "- 20230201\n",
    "- medline; title + abstract\n",
    "- pos: 22720\n",
    "- neg: 645\n",
    "- BERT large uncased: https://huggingface.co/bert-base-uncased\n",
    "- Roberta: https://huggingface.co/xlm-roberta-large\n",
    "- longformer: https://huggingface.co/allenai/longformer-base-4096\n",
    "- BioBERt: https://huggingface.co/dmis-lab/biobert-base-cased-v1.1\n",
    "- PubmedBERT: https://huggingface.co/microsoft/BiomedNLP-PubMedBERT-base-uncased-abstract-fulltext"
   ]
  },
  {
   "attachments": {},
   "cell_type": "markdown",
   "metadata": {},
   "source": [
    "## Undersampling\n",
    "Dataset:\n",
    "- pos: 22720 -> 650"
   ]
  },
  {
   "attachments": {},
   "cell_type": "markdown",
   "metadata": {},
   "source": [
    "## Oversampling\n",
    "- neg: 645 + 2200 synthetic\n",
    "- BackTranslation: https://marian-nmt.github.io/\n",
    "- NLP augmentation: https://github.com/makcedward/nlpaug\n",
    "\n",
    "\n",
    "\n"
   ]
  }
 ],
 "metadata": {
  "kernelspec": {
   "display_name": ".venv",
   "language": "python",
   "name": "python3"
  },
  "language_info": {
   "codemirror_mode": {
    "name": "ipython",
    "version": 3
   },
   "file_extension": ".py",
   "mimetype": "text/x-python",
   "name": "python",
   "nbconvert_exporter": "python",
   "pygments_lexer": "ipython3",
   "version": "3.10.6"
  },
  "orig_nbformat": 4,
  "vscode": {
   "interpreter": {
    "hash": "09e89c8849c8b19ffa24f76a8fb04e45c1ae0fc16f10744ec27c8d28d9112ca3"
   }
  }
 },
 "nbformat": 4,
 "nbformat_minor": 2
}
