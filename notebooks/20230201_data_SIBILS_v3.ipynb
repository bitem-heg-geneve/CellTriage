{
 "cells": [
  {
   "attachments": {},
   "cell_type": "markdown",
   "metadata": {},
   "source": [
    "# Data extraction\n",
    "parameters:\n",
    "- dataset: 2023_02_01\n",
    "- fetch_api = \"http://candy.hesge.ch:8900/SIBiLS/fetch\""
   ]
  },
  {
   "cell_type": "code",
   "execution_count": 30,
   "metadata": {},
   "outputs": [
    {
     "name": "stdout",
     "output_type": "stream",
     "text": [
      "/home/paulvanrijen/data/CellTriage\n"
     ]
    }
   ],
   "source": [
    "\n",
    "import os\n",
    "from base_fns import get_local_folder\n",
    "project_path = os.path.join(get_local_folder(), '..' )\n",
    "%cd $project_path\n",
    "\n",
    "from src.utils import split_list\n",
    "\n",
    "from pathlib import Path\n",
    "from IPython.display import display\n",
    "from tqdm import tqdm\n",
    "import requests\n",
    "import orjson\n",
    "import matplotlib.pyplot as plt\n",
    "from matplotlib_venn import venn2, venn2_circles\n"
   ]
  },
  {
   "attachments": {},
   "cell_type": "markdown",
   "metadata": {},
   "source": [
    "\n",
    "## PMIDS\n",
    "\n",
    "\n"
   ]
  },
  {
   "cell_type": "code",
   "execution_count": 31,
   "metadata": {},
   "outputs": [
    {
     "name": "stdout",
     "output_type": "stream",
     "text": [
      "#neg pmids: 644\n",
      "#pos pmids: 22719\n"
     ]
    }
   ],
   "source": [
    "# read samples\n",
    "NEG_FP = \"./data/20230201/publication_negative_set.tsv\"\n",
    "POS_FP = \"./data/20230201/publication_positive_set.tsv\"\n",
    "\n",
    "with open(NEG_FP, \"r\") as f:\n",
    "    neg_set = f.read().splitlines() [1:]\n",
    "    # neg_set = neg_set[1:]\n",
    "print(f\"#neg pmids: {len(neg_set)}\")\n",
    "\n",
    "with open(POS_FP, \"r\") as f:\n",
    "    pos_set = f.read().splitlines() [1:]\n",
    "print(f\"#pos pmids: {len(pos_set)}\")\n"
   ]
  },
  {
   "attachments": {},
   "cell_type": "markdown",
   "metadata": {},
   "source": [
    "## SIBiLS"
   ]
  },
  {
   "attachments": {},
   "cell_type": "markdown",
   "metadata": {},
   "source": [
    "### negatives"
   ]
  },
  {
   "cell_type": "code",
   "execution_count": 32,
   "metadata": {},
   "outputs": [
    {
     "name": "stderr",
     "output_type": "stream",
     "text": [
      "2it [00:13,  6.75s/it]\n"
     ]
    },
    {
     "name": "stdout",
     "output_type": "stream",
     "text": [
      "#neg documents fetched: 548\n"
     ]
    }
   ],
   "source": [
    "\n",
    "URL_API = \"http://candy.hesge.ch:8900/SIBiLS/fetch\"\n",
    "NEG_JSON_FP = \"./data/20230201/SIBiLS_v3/publication_negative_set.json\"\n",
    "CHUNK_SIZE = 500\n",
    "\n",
    "\n",
    "concat_response = []\n",
    "for chunk in tqdm(split_list(neg_set, CHUNK_SIZE)):\n",
    "    params = {\"col\": \"medline\",\n",
    "              \"ids\": \",\".join(chunk)}\n",
    "    r = requests.post(url=URL_API, params=params)\n",
    "    concat_response.extend(orjson.loads(r.text))\n",
    "\n",
    "with open(NEG_JSON_FP, \"wb\") as f:\n",
    "    f.write(orjson.dumps(concat_response))\n",
    "\n",
    "\n",
    "print(\"#neg documents fetched:\", len(concat_response))"
   ]
  },
  {
   "cell_type": "code",
   "execution_count": 20,
   "metadata": {},
   "outputs": [
    {
     "name": "stdout",
     "output_type": "stream",
     "text": [
      "#neg documents not fetched: 96\n",
      "{'20301652', '36585754', '27336128', '36608618', '36351163', '34097371', '36636475', '20301779', '20301336', '36351160', '34941234', '36519179', '34756847', '36636470', '29939552', '36670520', '34941228', '36564866', '36564867', '34941229', '36608617', '34756845', '36585757', '33270410', '36608616', '35274913', '20301483', '20301761', '34941235', '34941232', '35267247', '36564870', '36585756', '36670523', '36606118', '36282940', '31082146', '35050562', '34941236', '35274912', '36519010', '36564868', '34941231', '36564871', '34003615', '35032962', '36606116', '31643906', '35274911', '36512654', '34648250', '36585755', '34941230', '34756846', '36636471', '24027799', '20301508', '35050561', '36351164', '34941233', '36351157r', '20301685', '28520346', '35704653', '20301490', '26389437', '24175354', '36519011', '36670522', '34648251', '36564872', '36351161', '36519009', '36519007', '31643973', '36636474', '36608615', '20301750', '26389331', '36351159', '36670519', '36636473', '35274906', '36670521', '34648249', '36564869', '36351158', '34914343', '36564873', '35420740', '36505095', '26389163', '20945554', '36351156', '36351162', '36636472'}\n"
     ]
    }
   ],
   "source": [
    "NEG_FAILED_JSON = \"./data/20230201/SIBiLS_v3/publication_negative.failed.json\"\n",
    "\n",
    "with open(NEG_JSON_FP, \"rb\") as f:\n",
    "    out_neg_json = orjson.loads(f.read())\n",
    "    out_neg_pmids = set([doc[\"record\"][\"pmid\"] for doc in out_neg_json])\n",
    "in_neg_pmids = set(neg_set)\n",
    "delta_neg_pmids = in_neg_pmids - out_neg_pmids\n",
    "\n",
    "with open(NEG_FAILED_JSON, \"wb\") as f:\n",
    "    f.write(orjson.dumps(list(delta_neg_pmids)))\n",
    "\n",
    "\n",
    "print(\"#neg documents not fetched:\", len(delta_neg_pmids))\n",
    "print(delta_neg_pmids)\n"
   ]
  },
  {
   "attachments": {},
   "cell_type": "markdown",
   "metadata": {},
   "source": [
    "Some examples:\n",
    "\n",
    "http://candy.hesge.ch:8900/SIBiLS/fetch?col=medline&ids=36519011,36636475,36585755  \n",
    "https://pubmed.ncbi.nlm.nih.gov/36519011/  \n",
    "https://pubmed.ncbi.nlm.nih.gov/36636475/  \n",
    "https://pubmed.ncbi.nlm.nih.gov/36585755/  \n"
   ]
  },
  {
   "attachments": {},
   "cell_type": "markdown",
   "metadata": {},
   "source": [
    "### fetch loss on negative samples (#pmid=644) by SIBiLS version"
   ]
  },
  {
   "cell_type": "markdown",
   "metadata": {},
   "source": []
  },
  {
   "cell_type": "code",
   "execution_count": 21,
   "metadata": {},
   "outputs": [
    {
     "data": {
      "image/png": "[encoded data removed]",
      "text/plain": [
       "<Figure size 400x400 with 1 Axes>"
      ]
     },
     "metadata": {},
     "output_type": "display_data"
    }
   ],
   "source": [
    "NEG_FAILED_JSON_SIBILS_v2 = \"./data/20230201/SIBiLS_v2/publication_negative.failed.json\"\n",
    "\n",
    "with open(NEG_FAILED_JSON_SIBILS_v2, \"rb\") as f:\n",
    "    out_neg_json_v2 = orjson.loads(f.read())\n",
    "    out_neg_pmids_v2 = set(out_neg_json_v2)\n",
    "\n",
    "\n",
    "plt.figure(figsize=(4,4))\n",
    "c= venn2([out_neg_pmids_v2, delta_neg_pmids], \n",
    "      set_colors=('#3E64AF', '#3EAF5D', '#D74E3B'), \n",
    "      set_labels = ('SIBilS_v2', \n",
    "                    'SIBils_v3'),\n",
    "      alpha=0.75)\n",
    "venn2_circles([out_neg_pmids_v2, delta_neg_pmids], lw=0.7)\n",
    "plt.show()"
   ]
  },
  {
   "attachments": {},
   "cell_type": "markdown",
   "metadata": {},
   "source": [
    "### positives"
   ]
  },
  {
   "cell_type": "code",
   "execution_count": 22,
   "metadata": {},
   "outputs": [
    {
     "name": "stderr",
     "output_type": "stream",
     "text": [
      "46it [13:27, 17.56s/it]\n"
     ]
    },
    {
     "name": "stdout",
     "output_type": "stream",
     "text": [
      "#pos documents: 22710\n"
     ]
    }
   ],
   "source": [
    "URL_API = \"http://candy.hesge.ch:8900/SIBiLS/fetch\"\n",
    "POS_JSON_FP = \"./data/20230201/SIBiLS_v3/publication_posive_set.json\"\n",
    "CHUNK_SIZE = 500\n",
    "\n",
    "\n",
    "concat_response = []\n",
    "for chunk in tqdm(split_list(pos_set, CHUNK_SIZE)):\n",
    "    params = {\"col\": \"medline\",\n",
    "              \"ids\": \",\".join(chunk)}\n",
    "    r = requests.post(url=URL_API, params=params)\n",
    "    concat_response.extend(orjson.loads(r.text))\n",
    "\n",
    "with open(POS_JSON_FP, \"wb\") as f:\n",
    "    f.write(orjson.dumps(concat_response))\n",
    "\n",
    "\n",
    "print(\"#pos documents:\", len(concat_response))\n"
   ]
  }
 ],
 "metadata": {
  "kernelspec": {
   "display_name": ".venv",
   "language": "python",
   "name": "python3"
  },
  "language_info": {
   "codemirror_mode": {
    "name": "ipython",
    "version": 3
   },
   "file_extension": ".py",
   "mimetype": "text/x-python",
   "name": "python",
   "nbconvert_exporter": "python",
   "pygments_lexer": "ipython3",
   "version": "3.10.6"
  },
  "orig_nbformat": 4,
  "vscode": {
   "interpreter": {
    "hash": "09e89c8849c8b19ffa24f76a8fb04e45c1ae0fc16f10744ec27c8d28d9112ca3"
   }
  }
 },
 "nbformat": 4,
 "nbformat_minor": 2
}
