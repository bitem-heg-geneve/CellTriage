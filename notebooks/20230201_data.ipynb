{
 "cells": [
  {
   "attachments": {},
   "cell_type": "markdown",
   "metadata": {},
   "source": [
    "# Process 2023_02_01 CellTriage dataset"
   ]
  },
  {
   "cell_type": "code",
   "execution_count": 38,
   "metadata": {},
   "outputs": [],
   "source": [
    "\n",
    "\n",
    "import os\n",
    "from pathlib import Path\n",
    "from IPython.display import display\n",
    "import requests\n",
    "import orjson"
   ]
  },
  {
   "attachments": {},
   "cell_type": "markdown",
   "metadata": {},
   "source": [
    "\n",
    "## PMIDS\n",
    "\n",
    "\n"
   ]
  },
  {
   "cell_type": "code",
   "execution_count": 39,
   "metadata": {},
   "outputs": [
    {
     "name": "stdout",
     "output_type": "stream",
     "text": [
      "#neg pmids: 645\n",
      "#pos pmids: 22720\n"
     ]
    }
   ],
   "source": [
    "# read samples\n",
    "NEG_FP = '../data/20230201/publication_negative_set.tsv'\n",
    "POS_FP = '../data/20230201/publication_positive_set.tsv'\n",
    "\n",
    "with open(NEG_FP, 'r') as f:\n",
    "    neg_set = f.read().splitlines() \n",
    "print(f'#neg pmids: {len(neg_set)}')    \n",
    "\n",
    "with open(POS_FP, 'r') as f:\n",
    "    pos_set = f.read().splitlines() \n",
    "print(f'#pos pmids: {len(pos_set)}')    "
   ]
  },
  {
   "attachments": {},
   "cell_type": "markdown",
   "metadata": {},
   "source": [
    "## SIBiLS"
   ]
  },
  {
   "attachments": {},
   "cell_type": "markdown",
   "metadata": {},
   "source": [
    "### negatives"
   ]
  },
  {
   "cell_type": "code",
   "execution_count": 40,
   "metadata": {},
   "outputs": [
    {
     "name": "stdout",
     "output_type": "stream",
     "text": [
      "#neg documents: 466\n"
     ]
    }
   ],
   "source": [
    "URL_API = \"https://candy.hesge.ch/SIBiLS/MEDLINE/fetch.jsp\"\n",
    "NEG_JSON_FP = '../data/20230201/publication_negative_set.json'\n",
    "\n",
    "params = {\"ids\": \",\".join(neg_set)}\n",
    "r = requests.post(url = URL_API, params = params)\n",
    "with open(NEG_JSON_FP,\"w\",encoding=\"utf-8\") as f:\n",
    "   f.write(r.text)\n",
    "\n",
    "print('#neg documents:', r.text.count('pmid'))\n"
   ]
  },
  {
   "attachments": {},
   "cell_type": "markdown",
   "metadata": {},
   "source": [
    "No documents are fetch for 179 out of 645 neg pmids!"
   ]
  },
  {
   "cell_type": "code",
   "execution_count": 53,
   "metadata": {},
   "outputs": [
    {
     "name": "stdout",
     "output_type": "stream",
     "text": [
      "#neg documents not fetched: 179\n",
      "{'35032962', '36307212', '36332987', '36209392', '31643973', '36270774', '36183145', '36519010', '36241377', '36209396', '36400560', '20301685', '36585755', '36183147', '36324702', '36332985', '36428249', '33270410', '36415207', '24175354', '36670519', '36564868', '36415204', '31082146', '36636473', '36428244', '36606118', '36187498', '36351162', '36400564', '36270772', '35274912', '36307209', '36670521', '36241374', '36209393', '36400562', '36428243', '36209395', '36332980', '36332984', '36608618', '36241371', '36670520', '36241379', '34003615', '34941236', '20301761', '35704653', '34097371', '36419540', '36400566', '20301490', '35274911', '36519011', '24027799', '36183142', '27336128', '35050561', '29939552', '36270773', '36585756', '36241372', '36564872', '36241376', '36270769', '36564870', '31643906', '36307214', '36209400', '36428247', '34941230', '36636470', '36585757', '36670523', '34756845', '36183140', '36512654', '36307207', '36270768', '36307210', '20301508', '20301336', '36564873', '36209397', '36263101', '35274906', '36332981', '36606116', '36608616', '36428245', '36183144', '36400568', '34941232', '36400563', '36241378', '36351158', '20301652', '20301483', '36241373', '35420740', '36428242', '36636472', '34648250', '34941234', '36351159', '34648251', '36564871', '36332983', '36307213', '36505095', '36405557', '26389437', '36451662', '36519179', '34941228', '34756847', '36608617', '36282940', '36519009', '36636475', '20945554', '36564866', '36183143', '34648249', '36636474', '28520346', '36636471', '36209394', '35267247', '34941229', '36332986', '35050562', '36585754', '36428248', '36270775', '36307215', '36270771', '36428241', '36564867', '36332988', '36351163', '36400565', '36183139', '26389331', '36332982', '36351157r', '20301750', '34941233', '36608615', '36209398', '36183141', '36400561', '36339973', '36183146', '26389163', '36351164', '36307211', '34756846', '36270776', '34914343', '36447930', '36519007', '35274913', '36241375', '36428246', '36564869', '36351161', '36670522', '20301779', '36307208', '36339981', '36209399', '36400567', '34941231', '36351156', '34941235', '36351160', '36270770'}\n"
     ]
    }
   ],
   "source": [
    "NEG_FAILED_JSON = '../data/20230201/publication_negative.failed.json'\n",
    "\n",
    "with open(NEG_JSON_FP, \"rb\") as f:\n",
    "   out_neg_json = orjson.loads(f.read())\n",
    "   out_neg_pmids= set([doc['infons']['pmid'] for doc in out_neg_json['documents']])\n",
    "in_neg_pmids=set(neg_set)\n",
    "delta_neg_pmids= in_neg_pmids - out_neg_pmids\n",
    "\n",
    "with open(NEG_FAILED_JSON, \"wb\") as f:\n",
    "    f.write(orjson.dumps(list(delta_neg_pmids)))\n",
    "\n",
    "\n",
    "print('#neg documents not fetched:', len(delta_neg_pmids))\n",
    "print(delta_neg_pmids)\n"
   ]
  },
  {
   "attachments": {},
   "cell_type": "markdown",
   "metadata": {},
   "source": [
    "Some examples:\n",
    "https://candy.hesge.ch/SIBiLS/MEDLINE/fetch.jsp?20301750,36636475,36400564\n",
    "\n",
    "https://pubmed.ncbi.nlm.nih.gov/20301750/\n",
    "https://pubmed.ncbi.nlm.nih.gov/36636475/\n",
    "https://pubmed.ncbi.nlm.nih.gov/36400564/\n"
   ]
  },
  {
   "attachments": {},
   "cell_type": "markdown",
   "metadata": {},
   "source": [
    "### positives"
   ]
  },
  {
   "cell_type": "code",
   "execution_count": 51,
   "metadata": {},
   "outputs": [
    {
     "name": "stdout",
     "output_type": "stream",
     "text": [
      "#pos documents: 22635\n"
     ]
    }
   ],
   "source": [
    "URL_API = \"https://candy.hesge.ch/SIBiLS/MEDLINE/fetch.jsp\"\n",
    "POS_JSON_FP = '../data/20230201/publication_posive_set.json'\n",
    "CHUNK_SIZE = 500\n",
    "\n",
    "def split_list(lst, chunk_size):\n",
    "    for i in range(0, len(lst), chunk_size):\n",
    "        yield lst[i:i+chunk_size]\n",
    "\n",
    "concat_response = {'source':\"MEDLINE\", 'documents':[]}\n",
    "for chunk in split_list(pos_set, CHUNK_SIZE):\n",
    "   params = {\"ids\": \",\".join(chunk)}\n",
    "   r = requests.post(url = URL_API, params = params)\n",
    "#    print(r)\n",
    "   concat_response['documents'].extend(orjson.loads(r.text)['documents'])\n",
    "\n",
    "with open(POS_JSON_FP, \"wb\") as f:\n",
    "    f.write(orjson.dumps(concat_response))\n",
    "\n",
    "\n",
    "print('#pos documents:', len(concat_response['documents']))"
   ]
  }
 ],
 "metadata": {
  "kernelspec": {
   "display_name": ".venv",
   "language": "python",
   "name": "python3"
  },
  "language_info": {
   "codemirror_mode": {
    "name": "ipython",
    "version": 3
   },
   "file_extension": ".py",
   "mimetype": "text/x-python",
   "name": "python",
   "nbconvert_exporter": "python",
   "pygments_lexer": "ipython3",
   "version": "3.10.6"
  },
  "orig_nbformat": 4,
  "vscode": {
   "interpreter": {
    "hash": "09e89c8849c8b19ffa24f76a8fb04e45c1ae0fc16f10744ec27c8d28d9112ca3"
   }
  }
 },
 "nbformat": 4,
 "nbformat_minor": 2
}
